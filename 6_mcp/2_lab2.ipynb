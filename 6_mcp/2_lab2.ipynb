{
 "cells": [
  {
   "cell_type": "markdown",
   "metadata": {},
   "source": [
    "### Week 2, Day 2\n",
    "\n",
    "We're about to create and use our own MCP Server and MCP Client!\n",
    "\n",
    "It's pretty simple, but it's not super-simple. The excitment around MCP is about how easy it is to share and use other MCP Servers - making our own does involve a bit of work.\n",
    "\n",
    "Let's review some python code made mostly by a hard-working Engineering Team:\n",
    "\n",
    "accounts.py"
   ]
  },
  {
   "cell_type": "code",
   "execution_count": 31,
   "metadata": {},
   "outputs": [
    {
     "data": {
      "text/plain": [
       "True"
      ]
     },
     "execution_count": 31,
     "metadata": {},
     "output_type": "execute_result"
    }
   ],
   "source": [
    "from dotenv import load_dotenv\n",
    "from agents import Agent, Runner, trace, set_default_openai_client\n",
    "from agents.mcp import MCPServerStdio\n",
    "from IPython.display import display, Markdown\n",
    "from openai import AsyncAzureOpenAI\n",
    "\n",
    "load_dotenv(override=True)"
   ]
  },
  {
   "cell_type": "code",
   "execution_count": 32,
   "metadata": {},
   "outputs": [],
   "source": [
    "from accounts import Account"
   ]
  },
  {
   "cell_type": "code",
   "execution_count": 33,
   "metadata": {},
   "outputs": [
    {
     "data": {
      "text/plain": [
       "Account(name='ed', balance=9260.524, strategy='', holdings={'AMZN': 12}, transactions=[3 shares of AMZN at 81.162 each., 3 shares of AMZN at 23.046 each., 3 shares of AMZN at 50.1 each., 3 shares of AMZN at 92.184 each.], portfolio_value_time_series=[('2025-06-07 11:31:51', 9942.514), ('2025-06-07 11:31:54', 9921.514), ('2025-06-07 11:48:02', 9765.514), ('2025-06-07 11:48:45', 9819.514), ('2025-06-08 06:26:00', 10113.375999999998), ('2025-06-08 06:26:00', 10131.375999999998), ('2025-06-08 06:43:42', 10158.076), ('2025-06-08 06:43:44', 9600.076), ('2025-06-08 06:45:30', 9548.524), ('2025-06-08 06:45:30', 9980.524)])"
      ]
     },
     "execution_count": 33,
     "metadata": {},
     "output_type": "execute_result"
    }
   ],
   "source": [
    "account = Account.get(\"Ed\")\n",
    "account"
   ]
  },
  {
   "cell_type": "code",
   "execution_count": 34,
   "metadata": {},
   "outputs": [
    {
     "data": {
      "text/plain": [
       "'Completed. Latest details:\\n{\"name\": \"ed\", \"balance\": 9209.421999999999, \"strategy\": \"\", \"holdings\": {\"AMZN\": 15}, \"transactions\": [{\"symbol\": \"AMZN\", \"quantity\": 3, \"price\": 81.162, \"timestamp\": \"2025-06-07 11:31:51\", \"rationale\": \"Because this bookstore website looks promising\"}, {\"symbol\": \"AMZN\", \"quantity\": 3, \"price\": 23.046, \"timestamp\": \"2025-06-08 06:25:59\", \"rationale\": \"Because this bookstore website looks promising\"}, {\"symbol\": \"AMZN\", \"quantity\": 3, \"price\": 50.1, \"timestamp\": \"2025-06-08 06:43:42\", \"rationale\": \"Because this bookstore website looks promising\"}, {\"symbol\": \"AMZN\", \"quantity\": 3, \"price\": 92.184, \"timestamp\": \"2025-06-08 06:45:30\", \"rationale\": \"Because this bookstore website looks promising\"}, {\"symbol\": \"AMZN\", \"quantity\": 3, \"price\": 17.034, \"timestamp\": \"2025-06-08 07:08:31\", \"rationale\": \"Because this bookstore website looks promising\"}], \"portfolio_value_time_series\": [[\"2025-06-07 11:31:51\", 9942.514], [\"2025-06-07 11:31:54\", 9921.514], [\"2025-06-07 11:48:02\", 9765.514], [\"2025-06-07 11:48:45\", 9819.514], [\"2025-06-08 06:26:00\", 10113.375999999998], [\"2025-06-08 06:26:00\", 10131.375999999998], [\"2025-06-08 06:43:42\", 10158.076], [\"2025-06-08 06:43:44\", 9600.076], [\"2025-06-08 06:45:30\", 9548.524], [\"2025-06-08 06:45:30\", 9980.524], [\"2025-06-08 07:08:31\", 9584.421999999999]], \"total_portfolio_value\": 9584.421999999999, \"total_profit_loss\": -415.5779999999995}'"
      ]
     },
     "execution_count": 34,
     "metadata": {},
     "output_type": "execute_result"
    }
   ],
   "source": [
    "account.buy_shares(\"AMZN\", 3, \"Because this bookstore website looks promising\")"
   ]
  },
  {
   "cell_type": "code",
   "execution_count": 35,
   "metadata": {},
   "outputs": [
    {
     "data": {
      "text/plain": [
       "'{\"name\": \"ed\", \"balance\": 9209.421999999999, \"strategy\": \"\", \"holdings\": {\"AMZN\": 15}, \"transactions\": [{\"symbol\": \"AMZN\", \"quantity\": 3, \"price\": 81.162, \"timestamp\": \"2025-06-07 11:31:51\", \"rationale\": \"Because this bookstore website looks promising\"}, {\"symbol\": \"AMZN\", \"quantity\": 3, \"price\": 23.046, \"timestamp\": \"2025-06-08 06:25:59\", \"rationale\": \"Because this bookstore website looks promising\"}, {\"symbol\": \"AMZN\", \"quantity\": 3, \"price\": 50.1, \"timestamp\": \"2025-06-08 06:43:42\", \"rationale\": \"Because this bookstore website looks promising\"}, {\"symbol\": \"AMZN\", \"quantity\": 3, \"price\": 92.184, \"timestamp\": \"2025-06-08 06:45:30\", \"rationale\": \"Because this bookstore website looks promising\"}, {\"symbol\": \"AMZN\", \"quantity\": 3, \"price\": 17.034, \"timestamp\": \"2025-06-08 07:08:31\", \"rationale\": \"Because this bookstore website looks promising\"}], \"portfolio_value_time_series\": [[\"2025-06-07 11:31:51\", 9942.514], [\"2025-06-07 11:31:54\", 9921.514], [\"2025-06-07 11:48:02\", 9765.514], [\"2025-06-07 11:48:45\", 9819.514], [\"2025-06-08 06:26:00\", 10113.375999999998], [\"2025-06-08 06:26:00\", 10131.375999999998], [\"2025-06-08 06:43:42\", 10158.076], [\"2025-06-08 06:43:44\", 9600.076], [\"2025-06-08 06:45:30\", 9548.524], [\"2025-06-08 06:45:30\", 9980.524], [\"2025-06-08 07:08:31\", 9584.421999999999], [\"2025-06-08 07:08:32\", 10244.421999999999]], \"total_portfolio_value\": 10244.421999999999, \"total_profit_loss\": 244.42200000000048}'"
      ]
     },
     "execution_count": 35,
     "metadata": {},
     "output_type": "execute_result"
    }
   ],
   "source": [
    "account.report()"
   ]
  },
  {
   "cell_type": "code",
   "execution_count": 36,
   "metadata": {},
   "outputs": [
    {
     "data": {
      "text/plain": [
       "[{'symbol': 'AMZN',\n",
       "  'quantity': 3,\n",
       "  'price': 81.162,\n",
       "  'timestamp': '2025-06-07 11:31:51',\n",
       "  'rationale': 'Because this bookstore website looks promising'},\n",
       " {'symbol': 'AMZN',\n",
       "  'quantity': 3,\n",
       "  'price': 23.046,\n",
       "  'timestamp': '2025-06-08 06:25:59',\n",
       "  'rationale': 'Because this bookstore website looks promising'},\n",
       " {'symbol': 'AMZN',\n",
       "  'quantity': 3,\n",
       "  'price': 50.1,\n",
       "  'timestamp': '2025-06-08 06:43:42',\n",
       "  'rationale': 'Because this bookstore website looks promising'},\n",
       " {'symbol': 'AMZN',\n",
       "  'quantity': 3,\n",
       "  'price': 92.184,\n",
       "  'timestamp': '2025-06-08 06:45:30',\n",
       "  'rationale': 'Because this bookstore website looks promising'},\n",
       " {'symbol': 'AMZN',\n",
       "  'quantity': 3,\n",
       "  'price': 17.034,\n",
       "  'timestamp': '2025-06-08 07:08:31',\n",
       "  'rationale': 'Because this bookstore website looks promising'}]"
      ]
     },
     "execution_count": 36,
     "metadata": {},
     "output_type": "execute_result"
    }
   ],
   "source": [
    "account.list_transactions()"
   ]
  },
  {
   "cell_type": "markdown",
   "metadata": {},
   "source": [
    "### Now we write an MCP server and use it directly!"
   ]
  },
  {
   "cell_type": "code",
   "execution_count": 37,
   "metadata": {},
   "outputs": [],
   "source": [
    "# Now let's use our accounts server as an MCP server\n",
    "\n",
    "params = {\"command\": \"/home/ateet/.local/bin/uv\", \"args\": [\"run\", \"accounts_server.py\"]}\n",
    "async with MCPServerStdio(params=params, client_session_timeout_seconds=10) as server:\n",
    "    mcp_tools = await server.list_tools()\n"
   ]
  },
  {
   "cell_type": "code",
   "execution_count": 38,
   "metadata": {},
   "outputs": [
    {
     "data": {
      "text/plain": [
       "[Tool(name='get_balance', description='Get the cash balance of the given account name.\\n\\n    Args:\\n        name: The name of the account holder\\n    ', inputSchema={'properties': {'name': {'title': 'Name', 'type': 'string'}}, 'required': ['name'], 'title': 'get_balanceArguments', 'type': 'object'}, annotations=None),\n",
       " Tool(name='get_holdings', description='Get the holdings of the given account name.\\n\\n    Args:\\n        name: The name of the account holder\\n    ', inputSchema={'properties': {'name': {'title': 'Name', 'type': 'string'}}, 'required': ['name'], 'title': 'get_holdingsArguments', 'type': 'object'}, annotations=None),\n",
       " Tool(name='buy_shares', description=\"Buy shares of a stock.\\n\\n    Args:\\n        name: The name of the account holder\\n        symbol: The symbol of the stock\\n        quantity: The quantity of shares to buy\\n        rationale: The rationale for the purchase and fit with the account's strategy\\n    \", inputSchema={'properties': {'name': {'title': 'Name', 'type': 'string'}, 'symbol': {'title': 'Symbol', 'type': 'string'}, 'quantity': {'title': 'Quantity', 'type': 'integer'}, 'rationale': {'title': 'Rationale', 'type': 'string'}}, 'required': ['name', 'symbol', 'quantity', 'rationale'], 'title': 'buy_sharesArguments', 'type': 'object'}, annotations=None),\n",
       " Tool(name='sell_shares', description=\"Sell shares of a stock.\\n\\n    Args:\\n        name: The name of the account holder\\n        symbol: The symbol of the stock\\n        quantity: The quantity of shares to sell\\n        rationale: The rationale for the sale and fit with the account's strategy\\n    \", inputSchema={'properties': {'name': {'title': 'Name', 'type': 'string'}, 'symbol': {'title': 'Symbol', 'type': 'string'}, 'quantity': {'title': 'Quantity', 'type': 'integer'}, 'rationale': {'title': 'Rationale', 'type': 'string'}}, 'required': ['name', 'symbol', 'quantity', 'rationale'], 'title': 'sell_sharesArguments', 'type': 'object'}, annotations=None),\n",
       " Tool(name='change_strategy', description='At your discretion, if you choose to, call this to change your investment strategy for the future.\\n\\n    Args:\\n        name: The name of the account holder\\n        strategy: The new strategy for the account\\n    ', inputSchema={'properties': {'name': {'title': 'Name', 'type': 'string'}, 'strategy': {'title': 'Strategy', 'type': 'string'}}, 'required': ['name', 'strategy'], 'title': 'change_strategyArguments', 'type': 'object'}, annotations=None)]"
      ]
     },
     "execution_count": 38,
     "metadata": {},
     "output_type": "execute_result"
    }
   ],
   "source": [
    "mcp_tools"
   ]
  },
  {
   "cell_type": "code",
   "execution_count": 39,
   "metadata": {},
   "outputs": [],
   "source": [
    "import os\n",
    "\n",
    "client = AsyncAzureOpenAI(\n",
    "    api_key=os.getenv('AZURE_OPENAI_API_KEY'),  \n",
    "    api_version=os.getenv(\"AZURE_OPENAI_API_VERSION_LATEST\"),\n",
    "    azure_endpoint=os.getenv(\"AZURE_OPENAI_ENDPOINT\")\n",
    ")\n",
    "set_default_openai_client(client)\n",
    "\n",
    "instructions = \"You are able to manage an account for a client, and answer questions about the account.\"\n",
    "request = \"My name is Ed and my account is under the name Ed. What's my balance and my holdings?\"\n",
    "model = os.getenv(\"AZURE_DEPLOYMENT_NAME\")"
   ]
  },
  {
   "cell_type": "code",
   "execution_count": 40,
   "metadata": {},
   "outputs": [
    {
     "data": {
      "text/markdown": [
       "Your current balance is **$9,209.42**. \n",
       "\n",
       "You hold **15 shares of AMZN (Amazon)** in your account."
      ],
      "text/plain": [
       "<IPython.core.display.Markdown object>"
      ]
     },
     "metadata": {},
     "output_type": "display_data"
    }
   ],
   "source": [
    "\n",
    "\n",
    "async with MCPServerStdio(params=params) as mcp_server:\n",
    "    agent = Agent(name=\"account_manager\", instructions=instructions, model=model, mcp_servers=[mcp_server])\n",
    "    with trace(\"account_manager\"):\n",
    "        result = await Runner.run(agent, request)\n",
    "    display(Markdown(result.final_output))\n"
   ]
  },
  {
   "cell_type": "markdown",
   "metadata": {},
   "source": [
    "### Now let's build our own MCP Client"
   ]
  },
  {
   "cell_type": "code",
   "execution_count": 47,
   "metadata": {},
   "outputs": [
    {
     "name": "stdout",
     "output_type": "stream",
     "text": [
      "/home/ateet/.local/bin/uv\n"
     ]
    }
   ],
   "source": [
    "import os\n",
    "os.environ[\"PATH\"] += os.pathsep + os.path.expanduser(\"~/.local/bin\")\n",
    "\n",
    "import shutil\n",
    "print(shutil.which(\"uv\"))\n"
   ]
  },
  {
   "cell_type": "code",
   "execution_count": 48,
   "metadata": {},
   "outputs": [
    {
     "name": "stdout",
     "output_type": "stream",
     "text": [
      "[Tool(name='get_balance', description='Get the cash balance of the given account name.\\n\\n    Args:\\n        name: The name of the account holder\\n    ', inputSchema={'properties': {'name': {'title': 'Name', 'type': 'string'}}, 'required': ['name'], 'title': 'get_balanceArguments', 'type': 'object'}, annotations=None), Tool(name='get_holdings', description='Get the holdings of the given account name.\\n\\n    Args:\\n        name: The name of the account holder\\n    ', inputSchema={'properties': {'name': {'title': 'Name', 'type': 'string'}}, 'required': ['name'], 'title': 'get_holdingsArguments', 'type': 'object'}, annotations=None), Tool(name='buy_shares', description=\"Buy shares of a stock.\\n\\n    Args:\\n        name: The name of the account holder\\n        symbol: The symbol of the stock\\n        quantity: The quantity of shares to buy\\n        rationale: The rationale for the purchase and fit with the account's strategy\\n    \", inputSchema={'properties': {'name': {'title': 'Name', 'type': 'string'}, 'symbol': {'title': 'Symbol', 'type': 'string'}, 'quantity': {'title': 'Quantity', 'type': 'integer'}, 'rationale': {'title': 'Rationale', 'type': 'string'}}, 'required': ['name', 'symbol', 'quantity', 'rationale'], 'title': 'buy_sharesArguments', 'type': 'object'}, annotations=None), Tool(name='sell_shares', description=\"Sell shares of a stock.\\n\\n    Args:\\n        name: The name of the account holder\\n        symbol: The symbol of the stock\\n        quantity: The quantity of shares to sell\\n        rationale: The rationale for the sale and fit with the account's strategy\\n    \", inputSchema={'properties': {'name': {'title': 'Name', 'type': 'string'}, 'symbol': {'title': 'Symbol', 'type': 'string'}, 'quantity': {'title': 'Quantity', 'type': 'integer'}, 'rationale': {'title': 'Rationale', 'type': 'string'}}, 'required': ['name', 'symbol', 'quantity', 'rationale'], 'title': 'sell_sharesArguments', 'type': 'object'}, annotations=None), Tool(name='change_strategy', description='At your discretion, if you choose to, call this to change your investment strategy for the future.\\n\\n    Args:\\n        name: The name of the account holder\\n        strategy: The new strategy for the account\\n    ', inputSchema={'properties': {'name': {'title': 'Name', 'type': 'string'}, 'strategy': {'title': 'Strategy', 'type': 'string'}}, 'required': ['name', 'strategy'], 'title': 'change_strategyArguments', 'type': 'object'}, annotations=None)]\n",
      "[FunctionTool(name='get_balance', description='Get the cash balance of the given account name.\\n\\n    Args:\\n        name: The name of the account holder\\n    ', params_json_schema={'properties': {'name': {'title': 'Name', 'type': 'string'}}, 'required': ['name'], 'title': 'get_balanceArguments', 'type': 'object', 'additionalProperties': False}, on_invoke_tool=<function get_accounts_tools_openai.<locals>.<lambda> at 0x7ed5b241eac0>, strict_json_schema=True), FunctionTool(name='get_holdings', description='Get the holdings of the given account name.\\n\\n    Args:\\n        name: The name of the account holder\\n    ', params_json_schema={'properties': {'name': {'title': 'Name', 'type': 'string'}}, 'required': ['name'], 'title': 'get_holdingsArguments', 'type': 'object', 'additionalProperties': False}, on_invoke_tool=<function get_accounts_tools_openai.<locals>.<lambda> at 0x7ed5b241ee80>, strict_json_schema=True), FunctionTool(name='buy_shares', description=\"Buy shares of a stock.\\n\\n    Args:\\n        name: The name of the account holder\\n        symbol: The symbol of the stock\\n        quantity: The quantity of shares to buy\\n        rationale: The rationale for the purchase and fit with the account's strategy\\n    \", params_json_schema={'properties': {'name': {'title': 'Name', 'type': 'string'}, 'symbol': {'title': 'Symbol', 'type': 'string'}, 'quantity': {'title': 'Quantity', 'type': 'integer'}, 'rationale': {'title': 'Rationale', 'type': 'string'}}, 'required': ['name', 'symbol', 'quantity', 'rationale'], 'title': 'buy_sharesArguments', 'type': 'object', 'additionalProperties': False}, on_invoke_tool=<function get_accounts_tools_openai.<locals>.<lambda> at 0x7ed5b241f100>, strict_json_schema=True), FunctionTool(name='sell_shares', description=\"Sell shares of a stock.\\n\\n    Args:\\n        name: The name of the account holder\\n        symbol: The symbol of the stock\\n        quantity: The quantity of shares to sell\\n        rationale: The rationale for the sale and fit with the account's strategy\\n    \", params_json_schema={'properties': {'name': {'title': 'Name', 'type': 'string'}, 'symbol': {'title': 'Symbol', 'type': 'string'}, 'quantity': {'title': 'Quantity', 'type': 'integer'}, 'rationale': {'title': 'Rationale', 'type': 'string'}}, 'required': ['name', 'symbol', 'quantity', 'rationale'], 'title': 'sell_sharesArguments', 'type': 'object', 'additionalProperties': False}, on_invoke_tool=<function get_accounts_tools_openai.<locals>.<lambda> at 0x7ed5b241f2e0>, strict_json_schema=True), FunctionTool(name='change_strategy', description='At your discretion, if you choose to, call this to change your investment strategy for the future.\\n\\n    Args:\\n        name: The name of the account holder\\n        strategy: The new strategy for the account\\n    ', params_json_schema={'properties': {'name': {'title': 'Name', 'type': 'string'}, 'strategy': {'title': 'Strategy', 'type': 'string'}}, 'required': ['name', 'strategy'], 'title': 'change_strategyArguments', 'type': 'object', 'additionalProperties': False}, on_invoke_tool=<function get_accounts_tools_openai.<locals>.<lambda> at 0x7ed5b241f060>, strict_json_schema=True)]\n"
     ]
    }
   ],
   "source": [
    "from accounts_client import get_accounts_tools_openai, read_accounts_resource, list_accounts_tools\n",
    "\n",
    "mcp_tools = await list_accounts_tools()\n",
    "print(mcp_tools)\n",
    "openai_tools = await get_accounts_tools_openai()\n",
    "print(openai_tools)"
   ]
  },
  {
   "cell_type": "code",
   "execution_count": 49,
   "metadata": {},
   "outputs": [
    {
     "data": {
      "text/markdown": [
       "Your account balance is **$9,209.42**. \n",
       "\n",
       "You hold **15 shares of AMZN** (Amazon). If you need any further assistance or have questions about your account, feel free to ask!"
      ],
      "text/plain": [
       "<IPython.core.display.Markdown object>"
      ]
     },
     "metadata": {},
     "output_type": "display_data"
    }
   ],
   "source": [
    "agent = Agent(name=\"account_manager\", instructions=instructions, model=model, tools=openai_tools)\n",
    "result = await Runner.run(agent, request)\n",
    "display(Markdown(result.final_output))"
   ]
  },
  {
   "cell_type": "code",
   "execution_count": 50,
   "metadata": {},
   "outputs": [
    {
     "name": "stdout",
     "output_type": "stream",
     "text": [
      "{\"name\": \"ed\", \"balance\": 9209.421999999999, \"strategy\": \"\", \"holdings\": {\"AMZN\": 15}, \"transactions\": [{\"symbol\": \"AMZN\", \"quantity\": 3, \"price\": 81.162, \"timestamp\": \"2025-06-07 11:31:51\", \"rationale\": \"Because this bookstore website looks promising\"}, {\"symbol\": \"AMZN\", \"quantity\": 3, \"price\": 23.046, \"timestamp\": \"2025-06-08 06:25:59\", \"rationale\": \"Because this bookstore website looks promising\"}, {\"symbol\": \"AMZN\", \"quantity\": 3, \"price\": 50.1, \"timestamp\": \"2025-06-08 06:43:42\", \"rationale\": \"Because this bookstore website looks promising\"}, {\"symbol\": \"AMZN\", \"quantity\": 3, \"price\": 92.184, \"timestamp\": \"2025-06-08 06:45:30\", \"rationale\": \"Because this bookstore website looks promising\"}, {\"symbol\": \"AMZN\", \"quantity\": 3, \"price\": 17.034, \"timestamp\": \"2025-06-08 07:08:31\", \"rationale\": \"Because this bookstore website looks promising\"}], \"portfolio_value_time_series\": [[\"2025-06-07 11:31:51\", 9942.514], [\"2025-06-07 11:31:54\", 9921.514], [\"2025-06-07 11:48:02\", 9765.514], [\"2025-06-07 11:48:45\", 9819.514], [\"2025-06-08 06:26:00\", 10113.375999999998], [\"2025-06-08 06:26:00\", 10131.375999999998], [\"2025-06-08 06:43:42\", 10158.076], [\"2025-06-08 06:43:44\", 9600.076], [\"2025-06-08 06:45:30\", 9548.524], [\"2025-06-08 06:45:30\", 9980.524], [\"2025-06-08 07:08:31\", 9584.421999999999], [\"2025-06-08 07:08:32\", 10244.421999999999], [\"2025-06-08 07:15:05\", 10379.421999999999]], \"total_portfolio_value\": 10379.421999999999, \"total_profit_loss\": 379.4220000000005}\n"
     ]
    }
   ],
   "source": [
    "context = await read_accounts_resource(\"ed\")\n",
    "print(context)"
   ]
  },
  {
   "cell_type": "code",
   "execution_count": 51,
   "metadata": {},
   "outputs": [
    {
     "data": {
      "text/plain": [
       "'{\"name\": \"ed\", \"balance\": 9209.421999999999, \"strategy\": \"\", \"holdings\": {\"AMZN\": 15}, \"transactions\": [{\"symbol\": \"AMZN\", \"quantity\": 3, \"price\": 81.162, \"timestamp\": \"2025-06-07 11:31:51\", \"rationale\": \"Because this bookstore website looks promising\"}, {\"symbol\": \"AMZN\", \"quantity\": 3, \"price\": 23.046, \"timestamp\": \"2025-06-08 06:25:59\", \"rationale\": \"Because this bookstore website looks promising\"}, {\"symbol\": \"AMZN\", \"quantity\": 3, \"price\": 50.1, \"timestamp\": \"2025-06-08 06:43:42\", \"rationale\": \"Because this bookstore website looks promising\"}, {\"symbol\": \"AMZN\", \"quantity\": 3, \"price\": 92.184, \"timestamp\": \"2025-06-08 06:45:30\", \"rationale\": \"Because this bookstore website looks promising\"}, {\"symbol\": \"AMZN\", \"quantity\": 3, \"price\": 17.034, \"timestamp\": \"2025-06-08 07:08:31\", \"rationale\": \"Because this bookstore website looks promising\"}], \"portfolio_value_time_series\": [[\"2025-06-07 11:31:51\", 9942.514], [\"2025-06-07 11:31:54\", 9921.514], [\"2025-06-07 11:48:02\", 9765.514], [\"2025-06-07 11:48:45\", 9819.514], [\"2025-06-08 06:26:00\", 10113.375999999998], [\"2025-06-08 06:26:00\", 10131.375999999998], [\"2025-06-08 06:43:42\", 10158.076], [\"2025-06-08 06:43:44\", 9600.076], [\"2025-06-08 06:45:30\", 9548.524], [\"2025-06-08 06:45:30\", 9980.524], [\"2025-06-08 07:08:31\", 9584.421999999999], [\"2025-06-08 07:08:32\", 10244.421999999999], [\"2025-06-08 07:15:05\", 10379.421999999999], [\"2025-06-08 07:15:05\", 9764.421999999999]], \"total_portfolio_value\": 9764.421999999999, \"total_profit_loss\": -235.57799999999952}'"
      ]
     },
     "execution_count": 51,
     "metadata": {},
     "output_type": "execute_result"
    }
   ],
   "source": [
    "from accounts import Account\n",
    "Account.get(\"ed\").report()"
   ]
  },
  {
   "cell_type": "markdown",
   "metadata": {},
   "source": [
    "<table style=\"margin: 0; text-align: left; width:100%\">\n",
    "    <tr>\n",
    "        <td style=\"width: 150px; height: 150px; vertical-align: middle;\">\n",
    "            <img src=\"../assets/exercise.png\" width=\"150\" height=\"150\" style=\"display: block;\" />\n",
    "        </td>\n",
    "        <td>\n",
    "            <h2 style=\"color:#ff7800;\">Exercises</h2>\n",
    "            <span style=\"color:#ff7800;\">Make your own MCP Server! Make a simple function to return the current Date, and expose it as a tool so that an Agent can tell you today's date.<br/>Harder optional exercise: then make an MCP Client, and use a native OpenAI call (without the Agents SDK) to use your tool via your client.\n",
    "            </span>\n",
    "        </td>\n",
    "    </tr>\n",
    "</table>"
   ]
  }
 ],
 "metadata": {
  "kernelspec": {
   "display_name": ".venv",
   "language": "python",
   "name": "python3"
  },
  "language_info": {
   "codemirror_mode": {
    "name": "ipython",
    "version": 3
   },
   "file_extension": ".py",
   "mimetype": "text/x-python",
   "name": "python",
   "nbconvert_exporter": "python",
   "pygments_lexer": "ipython3",
   "version": "3.12.3"
  }
 },
 "nbformat": 4,
 "nbformat_minor": 2
}
