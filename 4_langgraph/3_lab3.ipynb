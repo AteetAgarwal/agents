{
 "cells": [
  {
   "cell_type": "markdown",
   "metadata": {},
   "source": [
    "## Welcome to Week 4, Day 4\n",
    "\n",
    "This is the start of an AWESOME project! Really simple and very effective."
   ]
  },
  {
   "cell_type": "markdown",
   "metadata": {},
   "source": [
    "### First - a heads up for Windows PC users\n",
    "\n",
    "While executing this notebook, you might hit a problem with the Playwright browser raising a NotImplementedError.\n",
    "\n",
    "This should work when we move to python modules, but it can cause problems in Windows in a notebook.\n",
    "\n",
    "If you it this error and would like to run the notebook, you need to make a small change which seems quite hacky!\n",
    "\n",
    "1. Right click in `.venv` in the File Explorer on the left and select \"Find in folder\"\n",
    "2. Search for `asyncio.set_event_loop_policy(WindowsSelectorEventLoopPolicy())`  \n",
    "3. That code should be found in a line of code in a file called `kernelapp.py`\n",
    "4. Comment out that line of code in that file! And save the file.\n",
    "5. Restart the kernel by pressing the \"Restart\" button above\n",
    "\n",
    "Thank you to student Nicolas for finding this, and to Yaki, Zibin and Bhaskar for confirming that this worked for them!"
   ]
  },
  {
   "cell_type": "code",
   "execution_count": 2,
   "metadata": {},
   "outputs": [],
   "source": [
    "from typing import Annotated\n",
    "from typing_extensions import TypedDict\n",
    "from langgraph.graph import StateGraph, START\n",
    "from langgraph.graph.message import add_messages\n",
    "from dotenv import load_dotenv\n",
    "from IPython.display import Image, display\n",
    "import gradio as gr\n",
    "from typing_extensions import TypedDict\n",
    "from langgraph.graph import StateGraph\n",
    "from langgraph.graph.message import add_messages\n",
    "from langgraph.prebuilt import ToolNode, tools_condition\n",
    "import requests\n",
    "import os\n",
    "from langchain.agents import Tool\n",
    "\n",
    "from langchain_openai import AzureChatOpenAI\n",
    "from langgraph.checkpoint.memory import MemorySaver"
   ]
  },
  {
   "cell_type": "code",
   "execution_count": 3,
   "metadata": {},
   "outputs": [
    {
     "data": {
      "text/plain": [
       "True"
      ]
     },
     "execution_count": 3,
     "metadata": {},
     "output_type": "execute_result"
    }
   ],
   "source": [
    "load_dotenv(override=True)"
   ]
  },
  {
   "cell_type": "markdown",
   "metadata": {},
   "source": [
    "### Asynchronous LangGraph\n",
    "\n",
    "To run a tool:  \n",
    "Sync: `tool.run(inputs)`  \n",
    "Async: `await tool.arun(inputs)`\n",
    "\n",
    "To invoke the graph:  \n",
    "Sync: `graph.invoke(state)`  \n",
    "Async: `await graph.ainvoke(state)`"
   ]
  },
  {
   "cell_type": "code",
   "execution_count": 4,
   "metadata": {},
   "outputs": [],
   "source": [
    "class State(TypedDict):\n",
    "    \n",
    "    messages: Annotated[list, add_messages]\n",
    "\n",
    "\n",
    "graph_builder = StateGraph(State)"
   ]
  },
  {
   "cell_type": "code",
   "execution_count": 5,
   "metadata": {},
   "outputs": [],
   "source": [
    "pushover_token = os.getenv(\"PUSHOVER_TOKEN\")\n",
    "pushover_user = os.getenv(\"PUSHOVER_USER\")\n",
    "pushover_url = \"https://api.pushover.net/1/messages.json\"\n",
    "\n",
    "def push(text: str):\n",
    "    \"\"\"Send a push notification to the user\"\"\"\n",
    "    requests.post(pushover_url, data = {\"token\": pushover_token, \"user\": pushover_user, \"message\": text})\n",
    "\n",
    "tool_push = Tool(\n",
    "        name=\"send_push_notification\",\n",
    "        func=push,\n",
    "        description=\"useful for when you want to send a push notification\"\n",
    "    )"
   ]
  },
  {
   "cell_type": "markdown",
   "metadata": {},
   "source": [
    "### Next: Install Playwright\n",
    "\n",
    "On Windows and MacOS:  \n",
    "`playwright install`\n",
    "\n",
    "On Linux:  \n",
    "`playwright install —with-reps chromium`"
   ]
  },
  {
   "cell_type": "markdown",
   "metadata": {},
   "source": [
    "### Introducing nest_asyncio\n",
    "\n",
    "Python async code only allows for one \"event loop\" processing aynchronous events.\n",
    "\n",
    "The `nest_asyncio` library patches this, and is used for special situations, if you need to run a nested event loop.\n",
    "\n"
   ]
  },
  {
   "cell_type": "code",
   "execution_count": 6,
   "metadata": {},
   "outputs": [],
   "source": [
    "import nest_asyncio\n",
    "nest_asyncio.apply()"
   ]
  },
  {
   "cell_type": "markdown",
   "metadata": {},
   "source": [
    "### The LangChain community\n",
    "\n",
    "One of the remarkable things about LangChain is the rich community around it.\n",
    "\n",
    "Check this out:\n"
   ]
  },
  {
   "cell_type": "code",
   "execution_count": 7,
   "metadata": {},
   "outputs": [],
   "source": [
    "from langchain_community.agent_toolkits import PlayWrightBrowserToolkit\n",
    "from langchain_community.tools.playwright.utils import create_async_playwright_browser\n",
    "\n",
    "async_browser =  create_async_playwright_browser(headless=False)  # headful mode\n",
    "toolkit = PlayWrightBrowserToolkit.from_browser(async_browser=async_browser)\n",
    "tools = toolkit.get_tools()"
   ]
  },
  {
   "cell_type": "code",
   "execution_count": 8,
   "metadata": {},
   "outputs": [
    {
     "name": "stdout",
     "output_type": "stream",
     "text": [
      "click_element=async_browser=<Browser type=<BrowserType name=chromium executable_path=C:\\Users\\ateet\\AppData\\Local\\ms-playwright\\chromium-1169\\chrome-win\\chrome.exe> version=136.0.7103.25>\n",
      "navigate_browser=async_browser=<Browser type=<BrowserType name=chromium executable_path=C:\\Users\\ateet\\AppData\\Local\\ms-playwright\\chromium-1169\\chrome-win\\chrome.exe> version=136.0.7103.25>\n",
      "previous_webpage=async_browser=<Browser type=<BrowserType name=chromium executable_path=C:\\Users\\ateet\\AppData\\Local\\ms-playwright\\chromium-1169\\chrome-win\\chrome.exe> version=136.0.7103.25>\n",
      "extract_text=async_browser=<Browser type=<BrowserType name=chromium executable_path=C:\\Users\\ateet\\AppData\\Local\\ms-playwright\\chromium-1169\\chrome-win\\chrome.exe> version=136.0.7103.25>\n",
      "extract_hyperlinks=async_browser=<Browser type=<BrowserType name=chromium executable_path=C:\\Users\\ateet\\AppData\\Local\\ms-playwright\\chromium-1169\\chrome-win\\chrome.exe> version=136.0.7103.25>\n",
      "get_elements=async_browser=<Browser type=<BrowserType name=chromium executable_path=C:\\Users\\ateet\\AppData\\Local\\ms-playwright\\chromium-1169\\chrome-win\\chrome.exe> version=136.0.7103.25>\n",
      "current_webpage=async_browser=<Browser type=<BrowserType name=chromium executable_path=C:\\Users\\ateet\\AppData\\Local\\ms-playwright\\chromium-1169\\chrome-win\\chrome.exe> version=136.0.7103.25>\n"
     ]
    }
   ],
   "source": [
    "for tool in tools:\n",
    "    print(f\"{tool.name}={tool}\")"
   ]
  },
  {
   "cell_type": "code",
   "execution_count": 10,
   "metadata": {},
   "outputs": [],
   "source": [
    "tool_dict = {tool.name:tool for tool in tools}\n",
    "\n",
    "navigate_tool = tool_dict.get(\"navigate_browser\")\n",
    "extract_text_tool = tool_dict.get(\"extract_text\")\n",
    "\n",
    "    \n",
    "await navigate_tool.arun({\"url\": \"https://www.cnn.com\"})\n",
    "text = await extract_text_tool.arun({})"
   ]
  },
  {
   "cell_type": "code",
   "execution_count": 11,
   "metadata": {},
   "outputs": [
    {
     "name": "stdout",
     "output_type": "stream",
     "text": [
      "Breaking News, Latest News and Videos | CNN CNN values your feedback\n",
      "1. How relevant is this ad to you? 2. Did you encounter any technical\n",
      "issues? No Video player was slow to load content Video content never\n",
      "loaded Ad froze or did not finish loading Video content did not start\n",
      "after ad Audio on ad was too loud Other issues Ad never loaded Ad\n",
      "prevented/slowed the page from loading Content moved around while ad\n",
      "loaded Ad was repetitive to ads I've seen previously Other issues\n",
      "Cancel Submit Thank You! Your effort and contribution in providing\n",
      "this feedback is much\n",
      "appreciated. Close Ad Feedback Close icon US World Politics Business\n",
      "Health Entertainment Style Travel Sports Science Climate Weather\n",
      "Ukraine-Russia War Israel-Hamas War Underscored Games More US World\n",
      "Politics Business Health Entertainment Style Travel Sports Science\n",
      "Climate Weather Ukraine-Russia War Israel-Hamas War Underscored Games\n",
      "Watch Listen Live TV Subscribe Sign in My Account Settings Newsletters\n",
      "Topics you follow Sign out Your CNN account Sign in to your CNN\n",
      "account Sign in My Account Settings Newsletters Topics you follow Sign\n",
      "out Your CNN account Sign in to your CNN account Live TV Listen Watch\n",
      "Edition US International Arabic Español Edition US International\n",
      "Arabic Español US Crime + Justice World Africa Americas Asia Australia\n",
      "China Europe India Middle East United Kingdom Politics Trump Facts\n",
      "First CNN Polls 2025 Elections Business Tech Media Calculators Videos\n",
      "Markets Pre-markets After-Hours Fear & Greed Investing Markets Now\n",
      "Nightcap Health Life, But Better Fitness Food Sleep Mindfulness\n",
      "Relationships Entertainment Movies Television Celebrity Tech Innovate\n",
      "Foreseeable Future Mission: Ahead Work Transformed Innovative Cities\n",
      "Style Arts Design Fashion Architecture Luxury Beauty Video Travel\n",
      "Destinations Food & Drink Stay Videos Sports Pro Football College\n",
      "Football Basketball Baseball Soccer Olympics Hockey Science Space Life\n",
      "Unearthed Climate Solutions Weather Weather Video Climate Ukraine-\n",
      "Russia War Israel-Hamas War Watch Live TV CNN Headlines CNN Shorts\n",
      "Shows A-Z CNN10 CNN Max CNN TV Schedules FlashDocs Listen CNN 5 Things\n",
      "Chasing Life with Dr. Sanjay Gupta The Assignment with Audie Cornish\n",
      "One Thing Tug of War CNN Political Briefing The Axe Files All There Is\n",
      "with Anderson Cooper All CNN Audio podcasts CNN Underscored\n",
      "Electronics Fashion Beauty Health & Fitness Home Reviews Deals Gifts\n",
      "Travel Outdoors Pets Games Daily Crossword Jumble Crossword Sudoblock\n",
      "Sudoku 5 Things Quiz About CNN Subscribe Photos Investigations CNN\n",
      "Profiles CNN Leadership CNN Newsletters Work for CNN Follow CNN\n",
      "Trending San Francisco’s Castro district Vasectomies Russia’s war in\n",
      "Ukraine Small businesses and Trump’s tariffs Father’s Day gifts\n",
      "Suspect used flamethrower, yelled 'Free Palestine' in attack, FBI says\n",
      "Show all • Live Updates Live Updates AP/Getty Images Live Updates\n",
      "Officials identified the suspect in the Boulder, Colorado, attack that\n",
      "injured 6 as Mohamed Soliman Multiple people were set on fire at march\n",
      "for Israeli hostages Trump briefed on Boulder attack, White House says\n",
      "Video Video shows scenes moments after attack in Colorado 1:09 US News\n",
      "Jonathan Wiggs/The Boston Globe via Getty Images MIT class president\n",
      "banned from graduation ceremony after speech denouncing war in Gaza\n",
      "From Dillard University New Orleans holds burial of repatriated\n",
      "African Americans whose skulls were used in racist research Alvin C.\n",
      "Krupnick Co./Library of Congress Tulsa’s new Black mayor proposes\n",
      "$100M trust to ‘repair’ impact of 1921 Race Massacre Obtained by CNN\n",
      "Ukraine targets several Russian air bases in large-scale operation\n",
      "‘Spiderweb’ Russia and Ukraine may meet again for peace talks. But\n",
      "neither side gives reason for optimism • CNN Poll CNN Poll CNN CNN\n",
      "Poll Increasing number of Americans see distinctions between the two\n",
      "major parties, CNN Poll finds Analysis for Subscribers Demographic\n",
      "change is increasing GOP reliance on an unlikely group of supporters\n",
      "For Subscribers As Trump meddles with curricula, institutions in\n",
      "Canada, Europe and Asia race to attract fleeing talent Play Watch the\n",
      "latest CNN Headlines - Source: CNN Watch the latest CNN Headlines\n",
      "Angela Weiss/AFP via Getty Images Patti Lupone apologizes for\n",
      "‘disrespectful’ comments made about fellow Broadway actors during New\n",
      "Yorker interview Kirby Lee/USA Today Sports/Reuters Hailee Steinfeld\n",
      "marries Buffalo Bills quarterback Josh Allen • For Subscribers For\n",
      "Subscribers Buena Vista Images/Photodisc/Getty Images For Subscribers\n",
      "Expert advice on how to take advantage of the ‘golden summer of cheap\n",
      "flights’ • Video 1:00 KPIV Video See the 27-foot tall plant locals are\n",
      "trying to see in once-in-a-lifetime bloom 1:00 More top stories Kacper\n",
      "Pempel/Reuters Poland’s presidential election on a knife edge after\n",
      "heated election, exit polls show Federal agents briefly detain aide at\n",
      "New York Rep. Nadler’s office during nearby protests against migrant\n",
      "detentions 4 things are making us sick, MAHA documentary says. What\n",
      "the research tells us Video Business owners confront masked agents\n",
      "detaining gardener 1:05 Gold and other precious metals leak from\n",
      "Earth’s core and reach the surface Video Curtis Yarvin is inspiring a\n",
      "new generation of MAGA. He believes the US should be ruled by a\n",
      "monarch 3:41 Fire in a drug rehabilitation center in violence-plagued\n",
      "Mexican state kills 12, authorities say New research presents\n",
      "promising findings on colorectal cancer treatment and prevention Video\n",
      "‘This one’s ready for harvest.’ CNN captures rare moment on a\n",
      "furniture farm 2:45 The Motley Fool Hands down one of the best cards\n",
      "for good credit Tariffs Justin Sullivan/Getty Images Small businesses\n",
      "struggle under Trump’s tariff whiplash: ‘I’m so angry that my own\n",
      "government has done this to me’ Commerce Secretary Howard Lutnick says\n",
      "‘tariffs are not going away’ How American consumers are feeling the\n",
      "squeeze, in 4 charts Middle East AFP/Getty Images Dozens shot dead and\n",
      "injured near Gaza aid hub, health ministry and doctors say Video ‘It’s\n",
      "a death trap’: Palestinians describe deadly shooting at aid center in\n",
      "Gaza 0:55 Hamas says it hasn’t rejected ceasefire deal as Witkoff\n",
      "slams response as ‘unacceptable’ Ad Feedback Ad Feedback CNN Podcasts\n",
      "Senate Appropriations Committee Under RFK Jr.’s HHS, who decides the\n",
      "facts? Jun 1, 2025 Eugenia R. Washington/Getty Images This rock band\n",
      "could play at a backyard near you May 31, 2025 Thomas\n",
      "Trutschel/Photothek/Getty Images Klarna’s CEO on why you should buy\n",
      "now, pay later May 29, 2025 Ad Feedback Sports spotlight Bruna\n",
      "Casas/Reuters George Russell criticizes Max Verstappen for ‘totally\n",
      "unnecessary’ late-race contact Anne-Christine Poujoulat/AFP via Getty\n",
      "Images Tommy Paul and Frances Tiafoe become first American men since\n",
      "Andre Agassi to reach French Open quarterfinals Aurelien Morissard/AP\n",
      "Two dead and 500 arrested in France during PSG win celebrations Check\n",
      "these out Ivan Apfel/Getty Images Dwindling ticket sales and\n",
      "cancellations: What’s behind the decline of music festivals Nicholas\n",
      "Klein/Alamy Stock Photo This California community is arguably the most\n",
      "famous ‘gayborhood’ in the US • Video 1:29 Clipped From Video Video\n",
      "Eva Longoria learns the secret to grilling the perfect steak 1:29\n",
      "Armmy Picca/iStockphoto/Getty Images What a urologist wants men to\n",
      "know about vasectomies For Subscribers • For Subscribers For\n",
      "Subscribers Danny Lawson/PA Images/Getty Images For Subscribers\n",
      "Liverpool is no stranger to disaster, but it’s once again rising up in\n",
      "the wake of tragedy • For Subscribers For Subscribers Tareq Al Hilou,\n",
      "CNN For Subscribers 80% of Gaza is under an evacuation order. A look\n",
      "at how people are being squeezed, in five maps • For Subscribers For\n",
      "Subscribers Camilla Delsid For Subscribers ‘The US is the best place\n",
      "to exist’: She returned to Germany after living in California, and now\n",
      "she’s full of regret Ad Feedback Ad Feedback CNN Underscored Best-in-\n",
      "class Joe Bloss/CNN Underscored My car doesn’t have GPS, so I tested\n",
      "the best car phone holders to modernize my ride The 40 most luxurious\n",
      "gifts to spoil Dad with this Father’s Day We tested 5 popular neck\n",
      "fans in the California heat, only 2 kept us cool Heidi Klum’s beauty\n",
      "essentials include this electric shaving kit you can buy on Amazon\n",
      "Yes, a car sun shade does make a difference in hot weather. Here are\n",
      "the best to buy Expert-backed guides Show all Kai Burkhardt/CNN\n",
      "Underscored We asked expert hikers for tips and their favorite gear.\n",
      "Here’s what they said The best exercise dresses keep you comfortable,\n",
      "and stylish. Here are 21 fitness-expert approved dresses 72 Amazon\n",
      "gems that are small in size but big in impact The best products on\n",
      "sale this weekend that are truly discounted No central air? These are\n",
      "the best window air conditioners we’ve tested Editors' picks parsely\n",
      "Dermatologists recommend wearing sunscreen every day. Here are 20\n",
      "sunscreen sticks to add to cart Running shorts can make or break your\n",
      "workout. Here are the 15 best pairs for men Podiatrists think these\n",
      "are the best orthopedic shoes you can buy The ultimate European\n",
      "vacation packing list, according to travel experts Don’t travel\n",
      "without a good American Express credit card. Here are the best,\n",
      "according to a travel pro Business Show all -/AFP/AFP via Getty Images\n",
      "122, 232, 301, 338: The numbers key to Trump’s tariff revival How\n",
      "Trump’s biggest reversals on tariffs unfolded and where rates\n",
      "currently stand Jamie Dimon says China isn’t America’s biggest threat.\n",
      "It’s ‘the enemy within’ Trump doubles steel tariffs to 50% in ‘major\n",
      "announcement’ These toys are so hot that Chinese customs agents have\n",
      "seized hundreds of them in recent weeks Entertainment Show all\n",
      "Courtesy of Netflix Netflix announces premiere dates, plural, for the\n",
      "final season of ‘Stranger Things’ ‘Hacks’ star and co-creator Paul W.\n",
      "Downs talks Season 4’s ‘surreal’ cameos Loretta Swit, Emmy-winner who\n",
      "played ‘Hot Lips’ on pioneering TV series ‘M.A.S.H.,’ has died The\n",
      "controversial Dior dress from ‘Sex and the City’ that sparked protests\n",
      "in Paris Ad Feedback PAID PARTNER CONTENT Thousands flock to 0% APR\n",
      "offers lasting until nearly 2027 CardCritics Hands down the best\n",
      "balance transfer card of the year CardCritics Space and Science\n",
      "Show all M. Zoeller/USGS A reservoir of gold lies hidden in Earth’s\n",
      "core. Scientists say it’s leaking Archaeologists found a strange red\n",
      "mark on rock. Forensic police helped them unravel who made it Nearly\n",
      "3,000-year-old Mayan complex discovered, featuring pyramids and canals\n",
      "How 2,300-year-old gold rings bring an ancient chapter of Jerusalem’s\n",
      "history to life Travel Show all Maire & Andy Bain Her boyfriend fell\n",
      "asleep. Then she spent the six-hour journey talking to another guy\n",
      "This American couple’s new home in Europe is ‘what Florida wishes it\n",
      "was’ ‘Cities turned into theme parks’: Why Airbnb is facing trouble in\n",
      "Spain 23 of the most delicious Turkish dishes Style Show all Photo\n",
      "Illustration by Ian Berry/CNN/RBG Kew/Adobe Stock This flower hasn’t\n",
      "bloomed since the 19th century. But you can smell it A famous\n",
      "architect’s iconic furniture line gets its first update in decades In\n",
      "this museum space, the objects are yours to touch Video Why you can’t\n",
      "buy a brand new Rolex at the store 3:07 Celebrities are embracing flat\n",
      "shoes on the red carpet health and wellness Andrew Chatman/Thai\n",
      "Microcosmos While you sleep, these bugs throw a party on your face How\n",
      "to strengthen your body’s largest and most powerful muscle for pain-\n",
      "free movement The most popular breakfast food for kids has gotten even\n",
      "unhealthier. Here’s what to serve instead Want your kid to be ultra\n",
      "successful? Don't do this More Politics Show all Kevin Dietsch/Getty\n",
      "Images Trump withdraws Jared Isaacman’s nomination to lead NASA ‘after\n",
      "review of prior associations’ Analysis Joni Ernst’s ‘Well, we all are\n",
      "going to die,’ and the GOP’s flippant defenses of Trump’s agenda South\n",
      "Carolina Democrats, poised to play a major role in 2028, say they want\n",
      "a coalition builder MAGA outlet’s Pentagon correspondent criticized\n",
      "Hegseth. And then she was fired, she says Sources: Trump irritated\n",
      "that his team didn’t tell him about ‘TACO’ US Show all Gerald\n",
      "Herbert/AP A growing number of New Orleans fugitives’ friends and\n",
      "family arrested for aiding in jail escape The Colorado River Basin has\n",
      "lost as much groundwater as the entire volume of Lake Mead Trans high\n",
      "school athlete wins two events at California finals in shadow of\n",
      "protests, Trump funding threats Video Millions of bees buzz around\n",
      "Washington state roads after truck overturns 0:42 World Show all •\n",
      "Analysis Analysis Marvin Recinos/AFP/Getty Images Analysis ‘We are\n",
      "under a dictatorship.’ Six years into his rule, El Salvador’s Nayib\n",
      "Bukele tightens his grip Two bridges collapse in Russian regions\n",
      "bordering Ukraine, killing at least 7 Athletes, coaches and officials\n",
      "among 22 killed in road accident in northern Nigeria IAEA report\n",
      "spells out past secret nuclear activities in Iran CNN podcasts\n",
      "Show all Senate Appropriations Committee Under RFK Jr.’s HHS, who\n",
      "decides the facts? This rock band could play at a backyard near you\n",
      "Cars are in their computer era Unlock your memory by memorizing less\n",
      "How Sean became Diddy Sports Show all 3-time olympic gold medalist\n",
      "Lilly King announces she’ll retire after 2025 swim season Video: Elly\n",
      "De La Cruz hits home run one day after sister’s death Rockies make\n",
      "unfortunate MLB history Vanderbilt becomes first top-seed to miss\n",
      "regional final since 1999 MLB teams celebrate Lou Gehrig Day Video •\n",
      "Video 2:08 CNN Video Blasting music doesn’t work. Here are 4 tips\n",
      "that do help if you’re tired but still have to drive 2:08 • Video 2:07\n",
      "Getty Images Video How Charles and Camilla spoke through symbols in\n",
      "Canada 2:07 • Video 2:45 CNN Video 'This one's ready for harvest.' CNN\n",
      "captures rare moment on a furniture farm 2:45 • Video 0:47 goodyear\n",
      "police dept Video Police officer runs towards burning car to pull\n",
      "firefighter's daughter to safety 0:47 Food and Home Stacy Howell /\n",
      "Food Network Easy grilling recipes to keep in your back pocket Food\n",
      "Network Cucumber salads that go with whatever you’re cooking up Photo\n",
      "by Matt 12 summery vegetarian recipes that’ll have you grabbing\n",
      "seconds Paid Content Paid Content Recommendations More from CNN Art\n",
      "and Style Noemi Cassanelli/CNN This artist is keeping Hong Kong’s neon\n",
      "heritage alive Christopher Polk/Penske Media/Getty Images Look of the\n",
      "Week: Rebecca Black dresses for a shotgun wedding at the AMAs in Vegas\n",
      "• Video 2:43 Universal Pictures Video Renowned director Wes Anderson\n",
      "talks about his unique aesthetic 2:43 Remember When Stephane\n",
      "Cardinale/Corbis/Sygma/Getty Images Remember when Princess Diana wowed\n",
      "the Met Gala in a risqué — and secretly altered — gown? • Video 3:11\n",
      "Mike Coppola/Getty Images North America/Getty Images Video Why these\n",
      "Met Gala moments stand out in history 3:11 James Devaney/GC\n",
      "Images/Getty Images Remember when Carrie Bradshaw wore her wedding\n",
      "dress to the ‘Met Ball’? Ad Feedback Photos Giles Clarke What life is\n",
      "like in Sudan, where a devastating crisis has changed lives forever\n",
      "Emily Whitney for CNN A photographer followed moms through a dark time\n",
      "in their lives. She found something unexpected • Gallery Gallery\n",
      "Channi Anand/AP Gallery The week in 37 photos Nush Freedman for CNN\n",
      "This ancient Australian reef is sending a silent distress call Paid\n",
      "Partner Content CNN Games + Quizzes Show all • Today's crossword\n",
      "Today's crossword CNN Today's crossword No pencil or eraser required •\n",
      "Sudoblock Sudoblock CNN Sudoblock Sudoku + Blocks = addictive tile-\n",
      "matching puzzle • Jumble Crossword Jumble Crossword CNN Jumble\n",
      "Crossword Test your smarts with this scrambled word game • Weekly news\n",
      "quiz Weekly news quiz cnn Weekly news quiz What do you remember from\n",
      "the week that was? In case you missed it Money Sharma/AFP via Getty\n",
      "Images Indian military chief acknowledges loss of fighter jets in May\n",
      "conflict with Pakistan New research presents promising findings on\n",
      "colorectal cancer treatment and prevention Gallery Shot captured\n",
      "15,000 light-years from Earth. Kids play at Coney Island Beach. The\n",
      "week in photos US calls for Asia allies to boost defenses in face of\n",
      "China’s ‘imminent’ threat, Hegseth tells top defense forum ISIS claims\n",
      "first attacks against forces loyal to new government in Syria A\n",
      "reservoir of gold lies hidden in Earth’s core. Scientists say it’s\n",
      "leaking Supreme Court allows Trump to end parole program for 500,000\n",
      "immigrants Trump’s education secretary threatens to pull funding from\n",
      "New York over its Native American mascot ban The secret war between\n",
      "cat lovers and the abusers who profit from cruelty Subscribe Sign in\n",
      "My Account Settings Newsletters Topics you follow Sign out Your CNN\n",
      "account Sign in to your CNN account Live TV Listen Watch US Crime +\n",
      "Justice World Africa Americas Asia Australia China Europe India Middle\n",
      "East United Kingdom Politics Trump Facts First CNN Polls 2025\n",
      "Elections Business Tech Media Calculators Videos Markets Pre-markets\n",
      "After-Hours Fear & Greed Investing Markets Now Nightcap Health Life,\n",
      "But Better Fitness Food Sleep Mindfulness Relationships Entertainment\n",
      "Movies Television Celebrity Tech Innovate Foreseeable Future Mission:\n",
      "Ahead Work Transformed Innovative Cities Style Arts Design Fashion\n",
      "Architecture Luxury Beauty Video Travel Destinations Food & Drink Stay\n",
      "News Videos Sports Pro Football College Football Basketball Baseball\n",
      "Soccer Olympics Hockey Science Space Life Unearthed Climate Solutions\n",
      "Weather Weather Video Climate Ukraine-Russia War Israel-Hamas War\n",
      "Watch Live TV CNN Headlines CNN Shorts Shows A-Z CNN10 CNN Max CNN TV\n",
      "Schedules FlashDocs Listen CNN 5 Things Chasing Life with Dr. Sanjay\n",
      "Gupta The Assignment with Audie Cornish One Thing Tug of War CNN\n",
      "Political Briefing The Axe Files All There Is with Anderson Cooper All\n",
      "CNN Audio podcasts CNN Underscored Electronics Fashion Beauty Health &\n",
      "Fitness Home Reviews Deals Gifts Travel Outdoors Pets Games Daily\n",
      "Crossword Jumble Crossword Sudoblock Sudoku 5 Things Quiz About CNN\n",
      "Subscribe Photos Investigations CNN Profiles CNN Leadership CNN\n",
      "Newsletters Work for CNN Watch Listen Live TV Follow CNN Subscribe\n",
      "Sign in My Account Settings Newsletters Topics you follow Sign out\n",
      "Your CNN account Sign in to your CNN account Terms of Use Privacy\n",
      "Policy Do Not Sell Or Share My Personal Information Ad Choices\n",
      "Accessibility & CC About Subscribe Newsletters Transcripts Help Center\n",
      "© 2025 Cable News Network. A Warner Bros. Discovery Company. All\n",
      "Rights Reserved. CNN Sans ™ & © 2016 Cable News Network. Global\n",
      "Privacy Control (GPC) signal detected.  Your personal information will\n",
      "not be sold or shared. Do Not Sell or Share My Personal Data For\n",
      "residents of certain states only.  Please visit our U.S. State\n",
      "Supplement for more information. Privacy Policy Manage Consent\n",
      "Preferences Allow the Sale, Sharing or use of My Personal information\n",
      "for Targeted Advertising Allow the Sale, Sharing or use of My Personal\n",
      "information for Targeted Advertising If you switch this toggle to\n",
      "“no,” we will not sell or share your personal information with third\n",
      "parties for advertising targeted to this device. Please see our\n",
      "Privacy Center for additional preferences. Strictly Necessary Cookies\n",
      "Always Active These cookies are necessary for the website to function\n",
      "and cannot be switched off in our systems. You can set your browser to\n",
      "block or alert you about these cookies, but some parts of the site\n",
      "will not work. Back Button Cookie List Search Icon Filter Icon Clear\n",
      "checkbox label label Apply Cancel Consent Leg.Interest checkbox label\n",
      "label checkbox label label checkbox label label Confirm My Choices\n"
     ]
    }
   ],
   "source": [
    "import textwrap\n",
    "print(textwrap.fill(text))"
   ]
  },
  {
   "cell_type": "code",
   "execution_count": 12,
   "metadata": {},
   "outputs": [],
   "source": [
    "all_tools = tools + [tool_push]"
   ]
  },
  {
   "cell_type": "code",
   "execution_count": 13,
   "metadata": {},
   "outputs": [],
   "source": [
    "\n",
    "llm=AzureChatOpenAI(\n",
    "    azure_deployment=os.getenv(\"AZURE_DEPLOYMENT_NAME\"),\n",
    "    api_version=os.getenv(\"AZURE_OPENAI_API_VERSION\"),\n",
    "    temperature=0.3,\n",
    "    model=os.getenv(\"AZURE_OPENAI_MODEL\")\n",
    ")\n",
    "llm_with_tools = llm.bind_tools(all_tools)\n",
    "\n",
    "\n",
    "def chatbot(state: State):\n",
    "    return {\"messages\": [llm_with_tools.invoke(state[\"messages\"])]}\n"
   ]
  },
  {
   "cell_type": "code",
   "execution_count": 14,
   "metadata": {},
   "outputs": [
    {
     "data": {
      "image/png": "[encoded data removed]",
      "text/plain": [
       "<IPython.core.display.Image object>"
      ]
     },
     "metadata": {},
     "output_type": "display_data"
    }
   ],
   "source": [
    "\n",
    "graph_builder = StateGraph(State)\n",
    "graph_builder.add_node(\"chatbot\", chatbot)\n",
    "graph_builder.add_node(\"tools\", ToolNode(tools=all_tools))\n",
    "graph_builder.add_conditional_edges( \"chatbot\", tools_condition, \"tools\")\n",
    "graph_builder.add_edge(\"tools\", \"chatbot\")\n",
    "graph_builder.add_edge(START, \"chatbot\")\n",
    "\n",
    "memory = MemorySaver()\n",
    "graph = graph_builder.compile(checkpointer=memory)\n",
    "display(Image(graph.get_graph().draw_mermaid_png()))"
   ]
  },
  {
   "cell_type": "code",
   "execution_count": 15,
   "metadata": {},
   "outputs": [
    {
     "name": "stdout",
     "output_type": "stream",
     "text": [
      "* Running on local URL:  http://127.0.0.1:7860\n",
      "* To create a public link, set `share=True` in `launch()`.\n"
     ]
    },
    {
     "data": {
      "text/html": [
       "<div><iframe src=\"http://127.0.0.1:7860/\" width=\"100%\" height=\"500\" allow=\"autoplay; camera; microphone; clipboard-read; clipboard-write;\" frameborder=\"0\" allowfullscreen></iframe></div>"
      ],
      "text/plain": [
       "<IPython.core.display.HTML object>"
      ]
     },
     "metadata": {},
     "output_type": "display_data"
    },
    {
     "data": {
      "text/plain": []
     },
     "execution_count": 15,
     "metadata": {},
     "output_type": "execute_result"
    }
   ],
   "source": [
    "config = {\"configurable\": {\"thread_id\": \"10\"}}\n",
    "\n",
    "async def chat(user_input: str, history):\n",
    "    result = await graph.ainvoke({\"messages\": [{\"role\": \"user\", \"content\": user_input}]}, config=config)\n",
    "    return result[\"messages\"][-1].content\n",
    "\n",
    "\n",
    "gr.ChatInterface(chat, type=\"messages\").launch()"
   ]
  },
  {
   "cell_type": "code",
   "execution_count": null,
   "metadata": {},
   "outputs": [],
   "source": []
  }
 ],
 "metadata": {
  "kernelspec": {
   "display_name": ".venv",
   "language": "python",
   "name": "python3"
  },
  "language_info": {
   "codemirror_mode": {
    "name": "ipython",
    "version": 3
   },
   "file_extension": ".py",
   "mimetype": "text/x-python",
   "name": "python",
   "nbconvert_exporter": "python",
   "pygments_lexer": "ipython3",
   "version": "3.12.10"
  }
 },
 "nbformat": 4,
 "nbformat_minor": 2
}
